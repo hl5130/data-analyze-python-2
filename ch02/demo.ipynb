{
 "cells": [
  {
   "cell_type": "code",
   "execution_count": 2,
   "metadata": {},
   "outputs": [
    {
     "name": "stdout",
     "output_type": "stream",
     "text": [
      "[1, 2, 3, 4]\n",
      "[1, 2, 3, 4]\n",
      "[1, 2, 3, 4, 5]\n",
      "[1, 2, 3, 4, 5]\n"
     ]
    }
   ],
   "source": [
    "a = [1,2,3]\n",
    "b = a\n",
    "b.append(4)\n",
    "print(a)\n",
    "print(b)\n",
    "\n",
    "# 最后的结果是：\n",
    "# [1, 2, 3, 4]\n",
    "# [1, 2, 3, 4]\n",
    "# 从中可以发现 对变量b进行元素添加操作，而变量a的值也发生了改变；\n",
    "# 这说明 a 和 b 使用的同一个内存中的地址，b = a 的赋值操作，只是将 a的地址复制给了b，b并没有分配新的地址。\n",
    "# 所以 a 和 b 指向的同一个内存地址，此时 b.append() 操作之后的结果，也是 a 查询出来的结果"
   ]
  },
  {
   "cell_type": "code",
   "execution_count": 8,
   "metadata": {
    "scrolled": true
   },
   "outputs": [
    {
     "name": "stdout",
     "output_type": "stream",
     "text": [
      "[1, 2, 3, 4]\n"
     ]
    }
   ],
   "source": [
    "c = [1,2,3]\n",
    "def listAdd(dataList,element):\n",
    "    dataList.append(element)\n",
    "    \n",
    "listAdd(c, 4)\n",
    "print(c)\n",
    "# 从结果来看：调用函数 listAdd 时传入的参数 dataList 的内存地址和变量c的内存地址是一样的"
   ]
  },
  {
   "cell_type": "code",
   "execution_count": 14,
   "metadata": {},
   "outputs": [
    {
     "name": "stdout",
     "output_type": "stream",
     "text": [
      "<class 'list'>\n"
     ]
    },
    {
     "data": {
      "text/plain": [
       "True"
      ]
     },
     "execution_count": 14,
     "metadata": {},
     "output_type": "execute_result"
    }
   ],
   "source": [
    "# isinstance 函数用于对比变量类型\n",
    "# type 函数用于输出变量类型\n",
    "d = \"你好啊\"\n",
    "print(type(a))\n",
    "isinstance(a, list)"
   ]
  },
  {
   "cell_type": "code",
   "execution_count": null,
   "metadata": {},
   "outputs": [],
   "source": []
  }
 ],
 "metadata": {
  "kernelspec": {
   "display_name": "Python 3",
   "language": "python",
   "name": "python3"
  },
  "language_info": {
   "codemirror_mode": {
    "name": "ipython",
    "version": 3
   },
   "file_extension": ".py",
   "mimetype": "text/x-python",
   "name": "python",
   "nbconvert_exporter": "python",
   "pygments_lexer": "ipython3",
   "version": "3.7.3"
  }
 },
 "nbformat": 4,
 "nbformat_minor": 2
}
