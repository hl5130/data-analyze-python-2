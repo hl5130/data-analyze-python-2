{
 "cells": [
  {
   "cell_type": "code",
   "execution_count": 1,
   "metadata": {},
   "outputs": [
    {
     "data": {
      "text/plain": [
       "(1, 2, 3, 4)"
      ]
     },
     "execution_count": 1,
     "metadata": {},
     "output_type": "execute_result"
    }
   ],
   "source": [
    "# 元组的操作\n",
    "# 元组是一个固定长度，不可改变的Python序列对象。\n",
    "a = 1,2,3,4\n",
    "a"
   ]
  },
  {
   "cell_type": "code",
   "execution_count": 7,
   "metadata": {
    "scrolled": true
   },
   "outputs": [
    {
     "name": "stdout",
     "output_type": "stream",
     "text": [
      "(1, 2, 3)\n",
      "(4, 5, 6)\n",
      "2\n"
     ]
    }
   ],
   "source": [
    "# 复杂的元组，使用括号\n",
    "b = ((1,2,3), (4,5,6)) # 变量b，包含了2个元组，每个元组又包含了多个元素\n",
    "print(b[0]) # b[0]得到的是第一个元组 (1,2,3)\n",
    "print(b[1]) # b[1]得到的是第二个元组 (4,5,6)\n",
    "print(b[0][1]) # b[0][1] 得到的是第一个元组(1,2,3)中的第2个元素 2"
   ]
  },
  {
   "cell_type": "code",
   "execution_count": 1,
   "metadata": {
    "scrolled": true
   },
   "outputs": [
    {
     "name": "stdout",
     "output_type": "stream",
     "text": [
      "<class 'list'>\n",
      "(1, 2, 3)\n",
      "<class 'tuple'>\n",
      "<class 'str'>\n",
      "('I', ' ', 'l', 'o', 'v', 'e', ' ', 'y', 'o', 'u')\n",
      "<class 'tuple'>\n",
      "I\n"
     ]
    }
   ],
   "source": [
    "# 使用 tuple 函数，可以讲任意的序列和迭代器转换成元组\n",
    "c = [1,2,3]\n",
    "print(type(c))  # 得出的结果是 <class 'list'>，既这是一个 list\n",
    "print(tuple(c)) # 得出的结果是 (1, 2, 3)  \n",
    "print( type( tuple(c) ) ) # <class 'tuple'>，既这是一个 tuple\n",
    "\n",
    "d = 'I love you'\n",
    "print(type(d)) # 得出的结果是 <class 'str'>，既这是一个 str\n",
    "print(tuple(d)) # 转换成元组，结果是： ('I', ' ', 'l', 'o', 'v', 'e', ' ', 'y', 'o', 'u')，还有空格诶\n",
    "print( type( tuple(d) ) ) # <class 'tuple'>，既这是一个 tuple\n",
    "\n",
    "# 下标从0开始\n",
    "print(tuple(d)[0]) # 结果是： I"
   ]
  },
  {
   "cell_type": "code",
   "execution_count": null,
   "metadata": {},
   "outputs": [],
   "source": []
  }
 ],
 "metadata": {
  "kernelspec": {
   "display_name": "Python 3",
   "language": "python",
   "name": "python3"
  },
  "language_info": {
   "codemirror_mode": {
    "name": "ipython",
    "version": 3
   },
   "file_extension": ".py",
   "mimetype": "text/x-python",
   "name": "python",
   "nbconvert_exporter": "python",
   "pygments_lexer": "ipython3",
   "version": "3.7.3"
  }
 },
 "nbformat": 4,
 "nbformat_minor": 2
}
